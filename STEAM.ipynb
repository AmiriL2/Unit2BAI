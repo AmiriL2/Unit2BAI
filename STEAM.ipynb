{
 "cells": [
  {
   "cell_type": "code",
   "execution_count": 2,
   "metadata": {},
   "outputs": [],
   "source": [
    "import gpt_2_simple as GPT2"
   ]
  },
  {
   "cell_type": "code",
   "execution_count": 3,
   "metadata": {},
   "outputs": [],
   "source": [
    "session = GPT2.start_tf_sess()"
   ]
  },
  {
   "cell_type": "code",
   "execution_count": 4,
   "metadata": {},
   "outputs": [
    {
     "name": "stderr",
     "output_type": "stream",
     "text": [
      "2023-12-19 10:30:54.530450: I tensorflow/compiler/mlir/mlir_graph_optimization_pass.cc:388] MLIR V1 optimization pass is not enabled\n"
     ]
    },
    {
     "name": "stdout",
     "output_type": "stream",
     "text": [
      "Loading checkpoint checkpoint/steam/model-117\n",
      "INFO:tensorflow:Restoring parameters from checkpoint/steam/model-117\n",
      "Loading dataset...\n"
     ]
    },
    {
     "name": "stderr",
     "output_type": "stream",
     "text": [
      "100%|██████████| 1/1 [00:00<00:00, 3557.51it/s]"
     ]
    },
    {
     "name": "stdout",
     "output_type": "stream",
     "text": [
      "dataset has 3018 tokens\n",
      "Training...\n"
     ]
    },
    {
     "name": "stderr",
     "output_type": "stream",
     "text": [
      "\n"
     ]
    },
    {
     "name": "stdout",
     "output_type": "stream",
     "text": [
      "[118 | 17.68] loss=0.01 avg=0.01\n",
      "[119 | 34.49] loss=0.01 avg=0.01\n",
      "[120 | 49.49] loss=0.01 avg=0.01\n",
      "[121 | 63.93] loss=0.08 avg=0.03\n",
      "[122 | 78.61] loss=0.02 avg=0.03\n",
      "[123 | 93.23] loss=0.02 avg=0.03\n",
      "[124 | 107.75] loss=0.04 avg=0.03\n",
      "[125 | 122.02] loss=0.02 avg=0.03\n",
      "[126 | 136.43] loss=0.03 avg=0.03\n",
      "[127 | 151.03] loss=0.02 avg=0.03\n",
      "[128 | 165.71] loss=0.01 avg=0.03\n",
      "[129 | 180.06] loss=0.03 avg=0.03\n",
      "[130 | 194.76] loss=0.03 avg=0.03\n",
      "[131 | 209.09] loss=0.01 avg=0.03\n",
      "[132 | 223.60] loss=0.02 avg=0.03\n",
      "[133 | 237.89] loss=0.03 avg=0.03\n",
      "[134 | 252.28] loss=0.02 avg=0.03\n",
      "[135 | 266.71] loss=0.01 avg=0.02\n",
      "[136 | 281.40] loss=0.02 avg=0.02\n",
      "[137 | 295.96] loss=0.02 avg=0.02\n",
      "[138 | 310.72] loss=0.02 avg=0.02\n",
      "[139 | 325.11] loss=0.02 avg=0.02\n",
      "[140 | 339.66] loss=0.01 avg=0.02\n",
      "[141 | 354.44] loss=0.01 avg=0.02\n",
      "[142 | 368.97] loss=0.02 avg=0.02\n",
      "[143 | 383.28] loss=0.01 avg=0.02\n",
      "[144 | 397.65] loss=0.01 avg=0.02\n",
      "[145 | 412.48] loss=0.01 avg=0.02\n",
      "[146 | 427.18] loss=0.02 avg=0.02\n",
      "[147 | 441.81] loss=0.02 avg=0.02\n",
      "[148 | 456.44] loss=0.01 avg=0.02\n",
      "[149 | 470.99] loss=0.02 avg=0.02\n",
      "[150 | 485.27] loss=0.01 avg=0.02\n",
      "[151 | 499.94] loss=0.01 avg=0.02\n",
      "[152 | 514.37] loss=0.02 avg=0.02\n",
      "[153 | 528.81] loss=0.02 avg=0.02\n",
      "[154 | 543.33] loss=0.02 avg=0.02\n",
      "[155 | 557.72] loss=0.01 avg=0.02\n",
      "[156 | 572.23] loss=0.01 avg=0.02\n",
      "[157 | 586.84] loss=0.02 avg=0.02\n",
      "Saving checkpoint/steam/model-157\n"
     ]
    }
   ],
   "source": [
    "GPT2.finetune(session, \"STEAMQuestions.txt\", model_name=\"124M\", steps=40, run_name='steam')"
   ]
  },
  {
   "cell_type": "code",
   "execution_count": 5,
   "metadata": {},
   "outputs": [
    {
     "name": "stdout",
     "output_type": "stream",
     "text": [
      "Tell me about the Cybersecurity pathway \n",
      "\n",
      "Q: I want to learn more about the curriculum, curriculum concepts, and opportunities \n",
      "\n",
      "Q: What should I be looking at to start my journey in understanding the STEAM model?\n",
      "A:We recommend checking out our Playbook as the prime source that breaks down our model for different audiences.\n",
      "\n",
      "Q: Do you do tours?\n",
      "A:Yes, please reach out via our contact form to request a tour. \n",
      "\n",
      "Q: I want to spend a whole day with you to really learn about your model, is something like that possible?\n",
      "A: Inspiration visits are possible, for individuals and teams, which can span several hours or days. Please reach out to us so that we can collaborate on bringing that vision to life.\n",
      "\n",
      "Q: Is there a fee for these explorations?\n",
      "A: It depends, we want to share our model as much as we can, and based on our conversation about collaboration, deep engagements may have a small fee. Rest assured these funds are used to add to our scholar compensation fund for our internship program.\n",
      "\n",
      "Q: When do the Brooklyn STEAM Center programs occur?\n",
      "A: The Brooklyn STEAM Center programs occur during the regular school day, in the morning for Year 2 scholars and in the afternoon for Year 1 scholars. We operate the same days as the partner high school, offering instruction five days a week for 2.5 hours each day.\n",
      "\n",
      "Q: Wait a second, you said that students will be splitting their day, what does that mean?\n",
      "A: The Brooklyn STEAM Center is located on the Brooklyn Navy Yard, which is geographically separate from all of our partner high schools. Scholars in our program spend half of their school day with us and the other half at their home high school. We provide complimentary yellow bus shuttles during the middle of the day for scholars to travel between the two locations to ensure punctuality and avoid harsh weather.\n",
      "\n",
      "Q: How does this impact my high school graduation requirements?\n",
      "A: Our CTE Programs actually enable scholars to reduce their required 6 credits of LOTE (Language Other Than English) to 2 credits. In addition, we provide 13 elective credits (five more than required) on a scholar’s transcript that will heighten their GPA and stand out to colleges. In addition, we offer a bonus credit course for our internship program. Furthermore, scholars qualify for advanced annotations on their high school diplomas for the successful completion of our program.\n",
      "\n",
      "Q: This sounds great, but how much does it cost?\n",
      "A: The Brooklyn STEAM Center is operated by the New York City Department of Education, therefore as a public school, there is NO cost for scholars to attend. We cover the cost of all equipment, supplies, and fees.\n",
      "\n",
      "Q: How can I find out more about the Brooklyn STEAM Center?\n",
      "A: A typical first step is to speak to your school’s counselor. Scholars accepted into the cohort will be able to visit the Brooklyn STEAM Center, once in Grade 9 and again in Grade 10, for specific guided tours. In addition, we offer exploratory opportunities for potential applicants to ‘try it on’ with our instructors during Grade 10. We also conduct a Brooklyn Navy Yard tour to meet our business partners in Grade 9. Private tours are available upon request.\n",
      "\n",
      "Q: Do I need to be a certain “type” of student to be accepted?\n",
      "A: No. We accept students from all eight of our partner schools in an unbiased manner. We do not screen based on grades, demographics, special education, or language proficiency status. If you have concerns about a specific scholar limitation and being able to participate please let us know, we believe that anyone can learn!\n",
      "\n",
      "Q: Can Grade 11/12 students apply to the Brooklyn STEAM Center? \n",
      "A:Usually, the answer to this question would be “No”. However, with proper advocacy and support from the partner high school, there may be opportunities for scholars to enter as a Year 2 student based on availability.\n",
      "\n",
      "Q:Beyond the coursework, what else does the Brooklyn STEAM Center provide?\n",
      "A: Scholars are eligible for paid internships with one of our industry partners, prior learning credits and/or priority admission with our partner colleges, access to free testing for industry-recognized credentials, and a supportive community that is built around working with our scholars for their future.\n",
      "\n",
      "Q: How/When do I decide which CTE pathway I want to study? Can I choose more than one?\n",
      "A: You will rank all of the CTE Programs on the supplemental application that you will complete near the end of Grade 10. Scholars typically attain their first choice. Unfortunately, our programs are designed for two full years of instruction, which means you can only enroll in one program.\n",
      "\n",
      "Q: How will I know that I was accepted? Is there an orientation?\n"
     ]
    }
   ],
   "source": [
    "GPT2.generate(session, prefix=\"Tell me about the Cybersecurity pathway \")"
   ]
  }
 ],
 "metadata": {
  "kernelspec": {
   "display_name": "Python 3",
   "language": "python",
   "name": "python3"
  },
  "language_info": {
   "codemirror_mode": {
    "name": "ipython",
    "version": 3
   },
   "file_extension": ".py",
   "mimetype": "text/x-python",
   "name": "python",
   "nbconvert_exporter": "python",
   "pygments_lexer": "ipython3",
   "version": "3.10.8"
  },
  "orig_nbformat": 4,
  "vscode": {
   "interpreter": {
    "hash": "b0fa6594d8f4cbf19f97940f81e996739fb7646882a419484c72d19e05852a7e"
   }
  }
 },
 "nbformat": 4,
 "nbformat_minor": 2
}

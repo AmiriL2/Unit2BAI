{
 "cells": [
  {
   "cell_type": "code",
   "execution_count": 1,
   "metadata": {},
   "outputs": [],
   "source": [
    "import gpt_2_simple as GPT2"
   ]
  },
  {
   "cell_type": "code",
   "execution_count": 2,
   "metadata": {},
   "outputs": [],
   "source": [
    "session = GPT2.start_tf_sess()"
   ]
  },
  {
   "cell_type": "code",
   "execution_count": 3,
   "metadata": {},
   "outputs": [
    {
     "name": "stderr",
     "output_type": "stream",
     "text": [
      "2023-12-14 10:43:08.853571: I tensorflow/compiler/mlir/mlir_graph_optimization_pass.cc:388] MLIR V1 optimization pass is not enabled\n"
     ]
    },
    {
     "name": "stdout",
     "output_type": "stream",
     "text": [
      "Loading checkpoint checkpoint/steam/model-5\n",
      "INFO:tensorflow:Restoring parameters from checkpoint/steam/model-5\n",
      "Loading dataset...\n"
     ]
    },
    {
     "name": "stderr",
     "output_type": "stream",
     "text": [
      "100%|██████████| 1/1 [00:00<00:00, 1880.01it/s]"
     ]
    },
    {
     "name": "stdout",
     "output_type": "stream",
     "text": [
      "dataset has 2206 tokens\n",
      "Training...\n"
     ]
    },
    {
     "name": "stderr",
     "output_type": "stream",
     "text": [
      "\n"
     ]
    },
    {
     "name": "stdout",
     "output_type": "stream",
     "text": [
      "[6 | 16.04] loss=1.98 avg=1.98\n",
      "[7 | 31.12] loss=1.65 avg=1.81\n",
      "[8 | 45.17] loss=1.38 avg=1.67\n",
      "[9 | 59.21] loss=1.23 avg=1.56\n",
      "[10 | 73.41] loss=0.86 avg=1.42\n",
      "[11 | 87.50] loss=0.85 avg=1.32\n",
      "[12 | 101.51] loss=0.52 avg=1.20\n",
      "[13 | 115.54] loss=0.70 avg=1.14\n",
      "[14 | 129.57] loss=0.51 avg=1.06\n",
      "[15 | 143.64] loss=0.48 avg=1.00\n",
      "[16 | 157.73] loss=0.36 avg=0.94\n",
      "[17 | 171.89] loss=0.28 avg=0.88\n",
      "[18 | 185.96] loss=0.20 avg=0.83\n",
      "[19 | 200.30] loss=0.13 avg=0.78\n",
      "[20 | 214.42] loss=0.09 avg=0.73\n",
      "[21 | 228.83] loss=0.14 avg=0.69\n",
      "[22 | 242.93] loss=0.12 avg=0.65\n",
      "[23 | 257.02] loss=0.10 avg=0.62\n",
      "[24 | 271.09] loss=0.09 avg=0.59\n",
      "[25 | 285.23] loss=0.09 avg=0.56\n",
      "[26 | 299.41] loss=0.09 avg=0.54\n",
      "[27 | 313.67] loss=0.06 avg=0.51\n",
      "[28 | 328.12] loss=0.04 avg=0.49\n",
      "[29 | 342.41] loss=0.05 avg=0.47\n",
      "[30 | 356.69] loss=0.05 avg=0.45\n",
      "[31 | 370.99] loss=0.04 avg=0.43\n",
      "[32 | 385.58] loss=0.03 avg=0.41\n",
      "[33 | 399.81] loss=0.02 avg=0.40\n",
      "[34 | 414.00] loss=0.02 avg=0.38\n",
      "[35 | 428.21] loss=0.06 avg=0.37\n",
      "Saving checkpoint/steam/model-35\n"
     ]
    }
   ],
   "source": [
    "GPT2.finetune(session, \"STEAMQuestions.txt\", model_name=\"124M\", steps=30, run_name='steam')"
   ]
  },
  {
   "cell_type": "code",
   "execution_count": 4,
   "metadata": {},
   "outputs": [
    {
     "name": "stdout",
     "output_type": "stream",
     "text": [
      "Are tours allowed at the Brooklyn STEAM Center?\n",
      "A: We understand that some of our members may be limited or not available, so please let us know so that we can collaborate on bringing our member around to please their needs.\n",
      "\n",
      "Q: What is the purpose of the Advisory Council? How often does it meet?\n",
      "A: In order to execute strong programs that relate to real-world skills, we need your advice, as experts in the industry that are hiring our members, we need to hear from you. Our Advisory Council is where we discuss these details to then iterate and revise our curriculum and opportunities. We typically meet semi-annually, in January and June, but invested members can choose to be tapped more often.\n",
      "\n",
      "Q: When do you typically place interns with business? How long are the experiences?\n",
      "A: We have three typical internship cycles, Fall (October-January), Spring (March-May), and Summer (July-August). Internships are usually between 80-120 hours each, you are able to work with the intern to establish a schedule that works for both of you.\n",
      "\n",
      "Q: What is the expectation around intern pay and workers’ compensation insurance?\n",
      "A: Although we are always excited for partners that are willing to compensate interns, we understand that might not always be an option; regardless, all interns are compensated, and we will use our budget where available to pay the prevailing minimum wage rate. Workers’ compensation insurance is the responsibility of the organization that pays the scholar, so if we’re paying, we’ve covered the legality there.\n",
      "\n",
      "Q: What will my potential intern be capable of doing?\n",
      "A: Our scholars are enrolled in high-quality career pathway programs, you can read about their high-level overviews here. You will also have the ability to review their resume, portfolio, and industry certifications, and interview them to decide if there is a match.\n",
      "\n",
      "Q: Explain the smaller work-based learning opportunities I can get involved with.\n",
      "A: Beyond our internship program and industry-based project initiative, organizations may choose to schedule opportunities such as “Guest Speaking”, “Workplace Tours”, “Career Fairs”, “Job Shadowing” or “Mentoring.”\n",
      "\n",
      "Q: Where does postsecondary education fit in the Brooklyn STEAM Center model?\n",
      "A: We believe that learning is a lifelong process, so we encourage our youth to start “Learning & Earning” when they’re with us and beyond, programs such as college, trade school, and apprenticeships are all viable options post-graduation.\n",
      "\n",
      "Q: Do you track students into a particular option?\n",
      "A: No, we believe in supporting our youth with a pathway that works best with their needs. College, trade school, and apprenticeships all have their own advantages, that we present to our youth for them to make an informed decision.\n",
      "\n",
      "Q: What’s an articulation agreement?\n",
      "A: In short, it is a formalized document between our institution and yours that illustrates the pipeline recruitment strategy to your pathway, which comes with the added benefits of having highly interested and pre-trained scholars that typically come with some form of incentive (e.g. Prior Learning Credit, Fee Waiver, etc.).\n",
      "\n",
      "Q: What should I be looking at to start my journey in understanding the STEAM model?\n",
      "A:We recommend checking out our Playbook as the prime source that breaks down our model for different audiences.\n",
      "\n",
      "Q: Do you do tours?\n",
      "A:Yes, please reach out via our contact form to request a tour. \n",
      "\n",
      "Q: I want to spend a whole day with you to really learn about your model, is something like that possible?\n",
      "A: Inspiration visits are possible, for individuals and teams, which can span several hours or days. Please reach out to us so that we can collaborate on bringing that vision to life.\n",
      "\n",
      "Q: Is there a fee for these explorations?\n",
      "A: It depends, we want to share our model as much as we can, and based on our conversation about collaboration, deep engagements may have a small fee. Rest assured these funds are used to add to our scholar compensation fund for our internship program.\n",
      "\n",
      "Q: When do the Brooklyn STEAM Center programs occur?\n",
      "A: The Brooklyn STEAM Center programs occur during the regular school day, in the morning for Year 2 scholars and in the afternoon for Year 1 scholars. We operate the same days as the partner high school, offering instruction five days a week for 2.5 hours each day.\n",
      "\n",
      "Q: Wait a second, you said that students will be splitting their day, what does that mean?\n",
      "A: The Brooklyn STEAM Center is located on the Brooklyn Navy Yard, which is geographically separate from all of our partner high schools. Scholars in our program spend half\n"
     ]
    }
   ],
   "source": [
    "GPT2.generate(session, prefix=\"Are tours allowed at the Brooklyn STEAM Center?\")"
   ]
  }
 ],
 "metadata": {
  "kernelspec": {
   "display_name": "Python 3",
   "language": "python",
   "name": "python3"
  },
  "language_info": {
   "codemirror_mode": {
    "name": "ipython",
    "version": 3
   },
   "file_extension": ".py",
   "mimetype": "text/x-python",
   "name": "python",
   "nbconvert_exporter": "python",
   "pygments_lexer": "ipython3",
   "version": "3.10.8"
  },
  "orig_nbformat": 4,
  "vscode": {
   "interpreter": {
    "hash": "b0fa6594d8f4cbf19f97940f81e996739fb7646882a419484c72d19e05852a7e"
   }
  }
 },
 "nbformat": 4,
 "nbformat_minor": 2
}

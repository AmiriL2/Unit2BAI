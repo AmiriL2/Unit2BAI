{
 "cells": [
  {
   "cell_type": "code",
   "execution_count": 1,
   "metadata": {},
   "outputs": [],
   "source": [
    "import gpt_2_simple as GPT2"
   ]
  },
  {
   "cell_type": "code",
   "execution_count": 2,
   "metadata": {},
   "outputs": [
    {
     "name": "stderr",
     "output_type": "stream",
     "text": [
      "Fetching checkpoint: 1.05Mit [00:00, 1.54Git/s]                                                     \n",
      "Fetching encoder.json: 1.05Mit [00:00, 2.08Mit/s]                                                   \n",
      "Fetching hparams.json: 1.05Mit [00:00, 5.51Git/s]                                                   \n",
      "Fetching model.ckpt.data-00000-of-00001: 498Mit [13:14, 627kit/s]                                   \n",
      "Fetching model.ckpt.index: 1.05Mit [00:00, 2.16Git/s]                                               \n",
      "Fetching model.ckpt.meta: 1.05Mit [00:00, 3.48Mit/s]                                                \n",
      "Fetching vocab.bpe: 1.05Mit [00:00, 1.80Mit/s]                                                      \n"
     ]
    }
   ],
   "source": [
    "#GPT2.download_gpt2(model_name='124M')"
   ]
  },
  {
   "cell_type": "code",
   "execution_count": 2,
   "metadata": {},
   "outputs": [],
   "source": [
    "session = GPT2.start_tf_sess()"
   ]
  },
  {
   "cell_type": "code",
   "execution_count": 3,
   "metadata": {},
   "outputs": [
    {
     "name": "stderr",
     "output_type": "stream",
     "text": [
      "2023-12-14 09:57:03.008370: I tensorflow/compiler/mlir/mlir_graph_optimization_pass.cc:388] MLIR V1 optimization pass is not enabled\n"
     ]
    },
    {
     "name": "stdout",
     "output_type": "stream",
     "text": [
      "Loading checkpoint models/124M/model.ckpt\n",
      "INFO:tensorflow:Restoring parameters from models/124M/model.ckpt\n",
      "Loading dataset...\n"
     ]
    },
    {
     "name": "stderr",
     "output_type": "stream",
     "text": [
      "100%|██████████| 1/1 [00:00<00:00,  1.45it/s]\n"
     ]
    },
    {
     "name": "stdout",
     "output_type": "stream",
     "text": [
      "dataset has 338024 tokens\n",
      "Training...\n",
      "[1 | 16.97] loss=4.12 avg=4.12\n",
      "[2 | 32.81] loss=3.92 avg=4.02\n",
      "[3 | 47.25] loss=3.65 avg=3.90\n",
      "[4 | 61.64] loss=3.75 avg=3.86\n",
      "[5 | 76.73] loss=3.62 avg=3.81\n",
      "Saving checkpoint/run1/model-5\n"
     ]
    }
   ],
   "source": [
    "GPT2.finetune(session, \"shakespeare.txt\", model_name=\"124M\", steps=5)"
   ]
  },
  {
   "cell_type": "code",
   "execution_count": 5,
   "metadata": {},
   "outputs": [
    {
     "name": "stdout",
     "output_type": "stream",
     "text": [
      "Thou shall not pass to the duty of commendation; and thou shalt not pass to the duty of praise.\n",
      "\n",
      "If thou hast any thing that thou shouldst do, thou shalt not pass it.\n",
      "\n",
      "But if thou shouldst do it, thou shalt not pass it.\n",
      "\n",
      "\n",
      "And thou shalt not pass to the duty of commendation;\n",
      " and thou shalt not pass to the duty of praise.\n",
      "\n",
      "For thou art both a prince and a prince;\n",
      "And thou shalt not run to the duty of commendation.\n",
      "\n",
      "\n",
      "And thou shalt not pass to the duty of praise.\n",
      "\n",
      "But if thou shouldst do it, thou shalt not pass to the duty of commendation:\n",
      "And thou shalt not run to the duty of praise.\n",
      "For Thou art both a prince and a prince,\n",
      "And thou shalt not run to the duty of praise.\n",
      "\n",
      "And thou shalt not run to the duty of praise.\n",
      "The same shall be thy place,\n",
      "That thou shalt not pass to the duty of commendation.\n",
      "\n",
      "And thou shalt not run to the duty of praise.\n",
      "For thou art both a prince and a prince,\n",
      "And thou shalt not go to the duty of commendation.\n",
      "\n",
      "But if thou shouldst do it, thou shalt not go to the duty of praise:\n",
      "And thou shalt not run to the duty of praise.\n",
      "\n",
      "And thou shalt not go to the duty of praise.\n",
      "But if thou shouldst do it, thou shalt not go to the duty of praise:\n",
      "And thou shalt not go to the duty of praise.\n",
      "\n",
      "And thy place is thee,\n",
      "That thou shalt not run to the duty of commendation.\n",
      "\n",
      "\n",
      "And thou shalt not go to the duty of praise:\n",
      "And thou shalt not go to the duty of praise:\n",
      "And thou shalt not go to the duty of praise.\n",
      "\n",
      "And thou shalt not go to the duty of praise.\n",
      "But if thou shouldst do it, thou shalt not go to the duty of commendation:\n",
      "But thou shalt not go to the duty of praise:\n",
      "And thou shalt not go to the duty of praise.\n",
      "\n",
      "\n",
      "And thou shalt not go to the duty of praise:\n",
      "And thou shalt not go to the duty of praise.\n",
      "But if thou shouldst do it, thou shalt not go to the duty of commendation:\n",
      "And thou shalt not go to the duty of praise:\n",
      "And thou shalt not go to the duty of praise.\n",
      "But if thou shouldst do it, thou shalt not go to the duty of commendation:\n",
      "And thou shalt not go to the duty of praise:\n",
      "And thou shalt not go to the duty of praise.\n",
      "And thou shalt not go to the duty of praise:\n",
      "And thou shalt not go to the duty of praise:\n",
      "And thou shalt not go to the duty of praise:\n",
      "And thou shalt not go to the duty of praise:\n",
      "And thou shalt not go to the duty of praise.\n",
      "But if thou shouldst do it, thou shalt not go to the duty of commendation:\n",
      "And thou shalt not go to the duty of praise:\n",
      "And thou shalt not go to the duty of praise:\n",
      "And thou shalt not go to the duty of praise:\n",
      "And thou shalt not go to the duty of praise.\n",
      "\n",
      "But if thou shouldst do it, thou shalt not go to the duty of commendation:\n",
      "And thou shalt not go to the duty of praise:\n",
      "And thou shalt not go to the duty of praise:\n",
      "And thou shalt not go to the duty of praise:\n",
      "And thou shalt not go to the duty of praise:\n",
      "And thou shalt not go to the duty of praise:\n",
      "And thou shalt not go to the duty of praise:\n",
      "And you shall not run to the duty of commendation:\n",
      "And thou shalt not go to the duty of praise:\n",
      "And thou shalt not go to the duty of praise:\n",
      "And thou shalt not go to the duty of praise:\n",
      "And thou shalt not go to the duty of praise:\n",
      "And thou shalt not go to the duty of praise:\n",
      "And thou shalt not go to the duty of praise:\n",
      "And thou shalt not go to the duty of praise:\n",
      "And thou shalt not go to the duty of praise:\n",
      "And thou shalt not go to the duty of praise:\n",
      "And thou shalt not go to the duty of praise:\n",
      "And thou shalt not go to the duty of praise:\n",
      "And thou shalt not go to the duty of praise:\n",
      "And thou shalt not go to the duty of praise:\n",
      "And thou shalt not go to the duty of praise:\n",
      "And thou shalt not go to the duty of praise:\n",
      "And thou shalt not go to the duty of praise:\n",
      "And thou shalt not go to the duty of praise:\n",
      "And thou shalt not go to the duty of praise:\n",
      "And thou shalt not go to the duty of praise:\n",
      "And thou shalt\n"
     ]
    }
   ],
   "source": [
    "GPT2.generate(session, prefix=\"Thou shall not pass\")"
   ]
  }
 ],
 "metadata": {
  "kernelspec": {
   "display_name": "Python 3",
   "language": "python",
   "name": "python3"
  },
  "language_info": {
   "codemirror_mode": {
    "name": "ipython",
    "version": 3
   },
   "file_extension": ".py",
   "mimetype": "text/x-python",
   "name": "python",
   "nbconvert_exporter": "python",
   "pygments_lexer": "ipython3",
   "version": "3.10.8 (main, Oct 13 2022, 09:48:40) [Clang 14.0.0 (clang-1400.0.29.102)]"
  },
  "orig_nbformat": 4,
  "vscode": {
   "interpreter": {
    "hash": "b0fa6594d8f4cbf19f97940f81e996739fb7646882a419484c72d19e05852a7e"
   }
  }
 },
 "nbformat": 4,
 "nbformat_minor": 2
}
